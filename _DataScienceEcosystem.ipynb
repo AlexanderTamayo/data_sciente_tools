{
 "cells": [
  {
   "cell_type": "markdown",
   "id": "5a0fb824-c8aa-4fb7-b3d8-1f723398b612",
   "metadata": {},
   "source": [
    "#  Data Science Ecosystem"
   ]
  },
  {
   "cell_type": "markdown",
   "id": "86bcdcfb-4892-4495-976e-c01c5ca84db8",
   "metadata": {},
   "source": [
    "In this notebook, Data Science Tools and Ecosystem are summarized."
   ]
  },
  {
   "cell_type": "markdown",
   "id": "2d3c4e9e-1a41-4189-9e59-1df8804a9abb",
   "metadata": {},
   "source": [
    "**Objectives:**\n",
    "- Python\n",
    "- Github\n",
    "- RStudio"
   ]
  },
  {
   "cell_type": "markdown",
   "id": "a705a96d-87e2-42dc-b0cc-abc40f9e4201",
   "metadata": {},
   "source": [
    "Some of the popular languages that Data Scientists use are:\n",
    "1. Python\n",
    "2. Sql\n",
    "3. R"
   ]
  },
  {
   "cell_type": "markdown",
   "id": "3212ab0e-43fe-406a-a0f3-dc9789b58a58",
   "metadata": {},
   "source": [
    "Some of the commonly used libraries used by Data Scientists include:\n",
    "1. Pandas\n",
    "2. Seaborn\n",
    "3. Numpy"
   ]
  },
  {
   "cell_type": "markdown",
   "id": "806d719f-5cbc-4a2d-9b2e-d0b7280b8f5a",
   "metadata": {},
   "source": [
    "|Tool|\n",
    "|----|\n",
    "|Tensorflow|\n",
    "|Numpy|\n",
    "|Caret|"
   ]
  },
  {
   "cell_type": "markdown",
   "id": "af5a5715-08c3-4eff-9bbf-191a5c9d5ed1",
   "metadata": {},
   "source": [
    "### Below are a few examples of evaluating arithmetic expressions in Python."
   ]
  },
  {
   "cell_type": "code",
   "execution_count": 1,
   "id": "cef0a762-cbd2-4c99-80d5-6c6eafa9d189",
   "metadata": {
    "tags": []
   },
   "outputs": [
    {
     "name": "stdout",
     "output_type": "stream",
     "text": [
      "17\n"
     ]
    }
   ],
   "source": [
    "# This a simple arithmetic expression to mutiply then add integers\n",
    "x = (3*4)+5\n",
    "print(x)"
   ]
  },
  {
   "cell_type": "code",
   "execution_count": 2,
   "id": "b91891a1-43ab-4c37-a8e6-e6c93f18be99",
   "metadata": {
    "tags": []
   },
   "outputs": [
    {
     "name": "stdout",
     "output_type": "stream",
     "text": [
      "3.3333333333333335\n"
     ]
    }
   ],
   "source": [
    "# This will convert 200 minutes to hours by diving by 60\n",
    "x= 200/60\n",
    "print(x)"
   ]
  },
  {
   "cell_type": "markdown",
   "id": "4bb679be-b9b4-4716-b24c-9d98bebf6f1a",
   "metadata": {},
   "source": [
    "## Author\n",
    "Alexander Tamayo"
   ]
  }
 ],
 "metadata": {
  "kernelspec": {
   "display_name": "Python",
   "language": "python",
   "name": "conda-env-python-py"
  },
  "language_info": {
   "codemirror_mode": {
    "name": "ipython",
    "version": 3
   },
   "file_extension": ".py",
   "mimetype": "text/x-python",
   "name": "python",
   "nbconvert_exporter": "python",
   "pygments_lexer": "ipython3",
   "version": "3.7.12"
  }
 },
 "nbformat": 4,
 "nbformat_minor": 5
}
